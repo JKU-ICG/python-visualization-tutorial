{
 "cells": [
  {
   "cell_type": "markdown",
   "metadata": {},
   "source": [
    "# Plotting using Matplotlib and Seaborn\n",
    "\n",
    "[Matplotlib](http://matplotlib.org) is a basic plotting library for Python inspired by Matlab. [Seaborn](http://stanford.edu/~mwaskom/software/seaborn) is built on top of it with integrated analysis, specialized plots, and pretty good integration with Pandas.\n",
    "\n",
    "Also see [the full gallery of Seaborn](http://stanford.edu/~mwaskom/software/seaborn/examples/index.html) or [Matplotlib](http://matplotlib.org/gallery.html).\n"
   ]
  },
  {
   "cell_type": "code",
   "execution_count": null,
   "metadata": {},
   "outputs": [],
   "source": [
    "#disable some annoying warnings\n",
    "import warnings\n",
    "warnings.filterwarnings('ignore', category=FutureWarning)\n",
    "\n",
    "#plots the figures in place instead of a new window\n",
    "%matplotlib inline\n",
    "\n",
    "import matplotlib.pyplot as plt\n",
    "import seaborn as sns\n",
    "\n",
    "import pandas as pd\n",
    "import numpy as np"
   ]
  },
  {
   "cell_type": "code",
   "execution_count": null,
   "metadata": {},
   "outputs": [],
   "source": [
    "#use a standard dataset of heterogenous data\n",
    "cars = pd.read_csv('data/mtcars.csv')\n",
    "cars.head()"
   ]
  },
  {
   "cell_type": "markdown",
   "metadata": {},
   "source": [
    "## Scatterplot"
   ]
  },
  {
   "cell_type": "code",
   "execution_count": null,
   "metadata": {},
   "outputs": [],
   "source": [
    "plt.scatter(x=cars['mpg'],y=cars['wt'])\n",
    "plt.xlabel('miles per gallon')\n",
    "plt.ylabel('weight')\n",
    "plt.title('MPG vs WT')\n",
    "plt.show()"
   ]
  },
  {
   "cell_type": "code",
   "execution_count": null,
   "metadata": {},
   "outputs": [],
   "source": [
    "#integrated in pandas, too\n",
    "cars.plot(x='mpg',y='wt',kind='scatter')"
   ]
  },
  {
   "cell_type": "code",
   "execution_count": null,
   "metadata": {},
   "outputs": [],
   "source": [
    "cars.plot(kind='scatter', x='mpg',y='wt',c='hp',s=cars['cyl']*20,alpha=0.5)"
   ]
  },
  {
   "cell_type": "code",
   "execution_count": null,
   "metadata": {},
   "outputs": [],
   "source": [
    "#what if we plot everything?\n",
    "cars.plot()"
   ]
  },
  {
   "cell_type": "markdown",
   "metadata": {},
   "source": [
    "## Histogram"
   ]
  },
  {
   "cell_type": "code",
   "execution_count": null,
   "metadata": {},
   "outputs": [],
   "source": [
    "cars['mpg'].hist(bins=5)"
   ]
  },
  {
   "cell_type": "code",
   "execution_count": null,
   "metadata": {},
   "outputs": [],
   "source": [
    "plt.hist(cars['mpg'],bins=5)\n",
    "plt.title('miles per gallon')"
   ]
  },
  {
   "cell_type": "code",
   "execution_count": null,
   "metadata": {},
   "outputs": [],
   "source": [
    "#seaborn not just a histogram but also an kernel density enstimation and better default settings\n",
    "sns.distplot(cars['mpg'],bins=5)"
   ]
  },
  {
   "cell_type": "markdown",
   "metadata": {},
   "source": [
    "# Box plots"
   ]
  },
  {
   "cell_type": "code",
   "execution_count": null,
   "metadata": {},
   "outputs": [],
   "source": [
    "#box plots\n",
    "cars['mpg'].plot(kind='box')"
   ]
  },
  {
   "cell_type": "code",
   "execution_count": null,
   "metadata": {},
   "outputs": [],
   "source": [
    "cars.boxplot('mpg')"
   ]
  },
  {
   "cell_type": "code",
   "execution_count": null,
   "metadata": {},
   "outputs": [],
   "source": [
    "#group by gear\n",
    "cars.boxplot('mpg', by='gear')"
   ]
  },
  {
   "cell_type": "code",
   "execution_count": null,
   "metadata": {},
   "outputs": [],
   "source": [
    "# load gapminder again and select 2007\n",
    "gap = pd.read_csv('data/gapminder-unfiltered.tsv',index_col=0, sep='\\t')\n",
    "gap2007 = gap[gap.year == 2007]\n",
    "gap2007.columns"
   ]
  },
  {
   "cell_type": "markdown",
   "metadata": {},
   "source": [
    "## Log scale"
   ]
  },
  {
   "cell_type": "code",
   "execution_count": null,
   "metadata": {},
   "outputs": [],
   "source": [
    "gap2007.plot(kind='scatter', x='lifeExp',y='gdpPercap')"
   ]
  },
  {
   "cell_type": "markdown",
   "metadata": {},
   "source": [
    "The data is unbalanced with outliers. What about log scale?"
   ]
  },
  {
   "cell_type": "code",
   "execution_count": null,
   "metadata": {},
   "outputs": [],
   "source": [
    "gap2007.plot(kind='scatter', x='lifeExp',y='gdpPercap')\n",
    "plt.yscale('log')"
   ]
  },
  {
   "cell_type": "markdown",
   "metadata": {},
   "source": [
    "## Grouping / coloring plots\n",
    "\n",
    "How to group by color?"
   ]
  },
  {
   "cell_type": "code",
   "execution_count": null,
   "metadata": {},
   "outputs": [],
   "source": [
    "#create a color palette\n",
    "colors = sns.color_palette()\n",
    "sns.palplot(colors)"
   ]
  },
  {
   "cell_type": "code",
   "execution_count": null,
   "metadata": {},
   "outputs": [],
   "source": [
    "#for each group create an own plot and overlay them\n",
    "for (name, group),color in zip(gap2007.groupby('continent'),colors):\n",
    "    plt.scatter(x=group['lifeExp'],y=group['gdpPercap'],label=name, c=[color],s=30)\n",
    "plt.yscale('log')\n",
    "plt.legend()"
   ]
  },
  {
   "cell_type": "code",
   "execution_count": null,
   "metadata": {},
   "outputs": [],
   "source": [
    "#playing with categories ... seaborn is pretty good with it\n",
    "plt.figure(figsize=(40,20))\n",
    "plt.subplot(121)\n",
    "sns.boxplot(x='continent',y='gdpPercap',data=gap)\n",
    "\n",
    "plt.subplot(122)\n",
    "sns.violinplot(x='continent',y='gdpPercap',data=gap2007)"
   ]
  },
  {
   "cell_type": "code",
   "execution_count": null,
   "metadata": {},
   "outputs": [],
   "source": [
    "# or with linear regression\n",
    "\n",
    "anscombe = sns.load_dataset(\"anscombe\")\n",
    "sns.lmplot('x','y',col='dataset',hue='dataset', data=anscombe, col_wrap=2)\n",
    "g = sns.FacetGrid(anscombe, col=\"dataset\", height=4, aspect=1)\n",
    "g.map(sns.regplot, \"x\", \"y\")"
   ]
  },
  {
   "cell_type": "code",
   "execution_count": null,
   "metadata": {},
   "outputs": [],
   "source": [
    "# or with structured heatmaps\n",
    "\n",
    "#compute the correlations and take a look at them\n",
    "corrmat = gap.corr()\n",
    "\n",
    "# draw a clustered heatmap using seaborn\n",
    "sns.clustermap(corrmat, square=True)"
   ]
  },
  {
   "cell_type": "markdown",
   "metadata": {},
   "source": [
    "## TASK\n",
    "> Create a scatterplot where \n",
    "> * x = lifeExp \n",
    "> * y = gdpPerCap\n",
    "> * color = continent\n",
    "> * size = pop\n",
    ">\n",
    "> Label the axis appropiately and use a log scale for gdp."
   ]
  },
  {
   "cell_type": "code",
   "execution_count": null,
   "metadata": {},
   "outputs": [],
   "source": [
    "#for each group create an own plot an overlay them\n",
    "pop_max = gap2007['pop'].max()\n",
    "for (name, group),color in zip(gap2007.groupby('continent'),colors):\n",
    "    plt.scatter(x=group['lifeExp'],y=group['gdpPercap'],label=name, c=[color],s=(group['pop']/pop_max)*400)\n",
    "plt.yscale('log')\n",
    "plt.title('Life Expectancy vs GDP')\n",
    "plt.xlabel('Life Expectancy')\n",
    "plt.ylabel('GDP Per Cap')\n",
    "plt.legend()"
   ]
  },
  {
   "cell_type": "markdown",
   "metadata": {},
   "source": [
    "## Next\n",
    "\n",
    "[Interactive Plotting with Widgets and Altair](04_InteractivePlotting.ipynb)"
   ]
  }
 ],
 "metadata": {
  "anaconda-cloud": {},
  "kernelspec": {
   "display_name": "Python 3",
   "language": "python",
   "name": "python3"
  },
  "language_info": {
   "codemirror_mode": {
    "name": "ipython",
    "version": 3
   },
   "file_extension": ".py",
   "mimetype": "text/x-python",
   "name": "python",
   "nbconvert_exporter": "python",
   "pygments_lexer": "ipython3",
   "version": "3.8.5"
  },
  "widgets": {
   "state": {
    "07789af3459942088623c39a4357fa2d": {
     "views": [
      {
       "cell_index": 32
      }
     ]
    },
    "742b97ad3bc9417c952d9ba641960511": {
     "views": [
      {
       "cell_index": 38
      }
     ]
    },
    "a35912e47c4b42fd8c1b14ded1e5fc76": {
     "views": [
      {
       "cell_index": 40
      }
     ]
    },
    "ad083d82c7d84ddeacc49cba04922e12": {
     "views": [
      {
       "cell_index": 36
      }
     ]
    },
    "ade010281aa94cf1b77926bc7eeaaca6": {
     "views": [
      {
       "cell_index": 37
      }
     ]
    },
    "f2ba08809ec34aa7ae15070eea9f6371": {
     "views": [
      {
       "cell_index": 33
      }
     ]
    },
    "f59cd38aab604f7aa06e72fe931fd1ed": {
     "views": [
      {
       "cell_index": 31
      }
     ]
    }
   },
   "version": "1.2.0"
  }
 },
 "nbformat": 4,
 "nbformat_minor": 4
}
