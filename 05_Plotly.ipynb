{
 "cells": [
  {
   "cell_type": "markdown",
   "metadata": {},
   "source": [
    "# Visualization with Plotly\n",
    "[Plotly](https://plot.ly/python/) is another plotting library for python."
   ]
  },
  {
   "cell_type": "code",
   "execution_count": 1,
   "metadata": {},
   "outputs": [],
   "source": [
    "# See https://github.com/plotly/plotly.py and https://plot.ly/python/figurewidget/\n",
    "import plotly.graph_objs as go\n",
    "\n",
    "import pandas as pd\n",
    "import numpy as np"
   ]
  },
  {
   "cell_type": "code",
   "execution_count": 2,
   "metadata": {},
   "outputs": [],
   "source": [
    "#use a standard dataset of heterogenous data\n",
    "cars = pd.read_csv('data/mtcars.csv')"
   ]
  },
  {
   "cell_type": "markdown",
   "metadata": {},
   "source": [
    "## Scatterplot"
   ]
  },
  {
   "cell_type": "code",
   "execution_count": 3,
   "metadata": {},
   "outputs": [
    {
     "data": {
      "application/vnd.jupyter.widget-view+json": {
       "model_id": "1264685e1eff4c10808029695f953429",
       "version_major": 2,
       "version_minor": 0
      },
      "text/plain": [
       "FigureWidget({\n",
       "    'data': [{'mode': 'markers',\n",
       "              'type': 'scatter',\n",
       "              'uid': '1990301…"
      ]
     },
     "metadata": {},
     "output_type": "display_data"
    }
   ],
   "source": [
    "# Create a trace\n",
    "trace = go.Scatter(\n",
    "    x = cars['mpg'],\n",
    "    y = cars['wt'],\n",
    "    mode = 'markers'\n",
    ")\n",
    "\n",
    "data = [trace]\n",
    "\n",
    "# Plot and embed in ipython notebook!\n",
    "fw = go.FigureWidget(data=data)\n",
    "fw.layout.title = 'MPG vs WT'\n",
    "fw.layout.xaxis.title = 'miles per gallon'\n",
    "fw.layout.yaxis.title = \"weight\"\n",
    "fw"
   ]
  },
  {
   "cell_type": "markdown",
   "metadata": {},
   "source": [
    "## Interactivity (Brushing)"
   ]
  },
  {
   "cell_type": "code",
   "execution_count": 4,
   "metadata": {},
   "outputs": [
    {
     "data": {
      "application/vnd.jupyter.widget-view+json": {
       "model_id": "cc17b6612c9e4424b07f599531931695",
       "version_major": 2,
       "version_minor": 0
      },
      "text/plain": [
       "FigureWidget({\n",
       "    'data': [{'mode': 'markers',\n",
       "              'type': 'scatter',\n",
       "              'uid': '0b33306…"
      ]
     },
     "metadata": {},
     "output_type": "display_data"
    }
   ],
   "source": [
    "trace = go.Scatter(\n",
    "    x = cars['mpg'],\n",
    "    y = cars['wt'],\n",
    "    mode = 'markers',\n",
    "    marker=dict(color=np.zeros(cars['mpg'].shape[0]), # initially all points are blue (color=0)\n",
    "                colorscale=[[0, 'blue'],  # 0 = unselected = blue\n",
    "                           [1., 'red']])  # 1 = selected = red\n",
    ")\n",
    "\n",
    "layout=dict(dragmode='lasso',\n",
    "            hovermode='closest',\n",
    "            title='MPG vs WT',\n",
    "            xaxis = dict(title='miles per gallon'),\n",
    "            yaxis = dict(title='weight'))\n",
    "\n",
    "fw = go.FigureWidget(data=data, layout=layout)\n",
    "fw"
   ]
  },
  {
   "cell_type": "code",
   "execution_count": 5,
   "metadata": {},
   "outputs": [
    {
     "data": {
      "application/vnd.jupyter.widget-view+json": {
       "model_id": "cc17b6612c9e4424b07f599531931695",
       "version_major": 2,
       "version_minor": 0
      },
      "text/plain": [
       "FigureWidget({\n",
       "    'data': [{'mode': 'markers',\n",
       "              'type': 'scatter',\n",
       "              'uid': '0b33306…"
      ]
     },
     "metadata": {},
     "output_type": "display_data"
    }
   ],
   "source": [
    "# What happens with selected points?\n",
    "def brush(trace, points, state):\n",
    "    inds = np.array(points.point_inds)  # indices of the selected points\n",
    "    if inds.size:\n",
    "        points = np.zeros(len(trace.x)) # initially all my points are unselected --> value 0\n",
    "        points[inds] = 1  # set the selected points value to 1 --> they become red\n",
    "        trace.marker.color = points  # update the markers\n",
    "        \n",
    "fw.data[0].on_selection(brush)\n",
    "fw"
   ]
  },
  {
   "cell_type": "markdown",
   "metadata": {},
   "source": [
    "### Get selected points\n",
    "You can use that color information to get selected data points:"
   ]
  },
  {
   "cell_type": "code",
   "execution_count": 7,
   "metadata": {},
   "outputs": [
    {
     "data": {
      "text/plain": [
       "(array([15.2, 15.5, 15.2, 15.8, 15. ]),\n",
       " array([3.78 , 3.52 , 3.435, 3.17 , 3.57 ]))"
      ]
     },
     "execution_count": 7,
     "metadata": {},
     "output_type": "execute_result"
    }
   ],
   "source": [
    "mark_states = fw.data[0].marker.color.astype(bool) # to bool to mask the data array\n",
    "(trace['x'][mark_states], trace['y'][mark_states]) "
   ]
  },
  {
   "cell_type": "code",
   "execution_count": 8,
   "metadata": {},
   "outputs": [
    {
     "data": {
      "application/vnd.jupyter.widget-view+json": {
       "model_id": "6c9973fe94324f61912b6d84715eeb02",
       "version_major": 2,
       "version_minor": 0
      },
      "text/plain": [
       "FigureWidget({\n",
       "    'data': [{'type': 'bar',\n",
       "              'uid': '83647ac7-e697-4954-b572-a92110875b8e',\n",
       "     …"
      ]
     },
     "metadata": {},
     "output_type": "display_data"
    }
   ],
   "source": [
    "tracebar = go.Bar(\n",
    "        x = cars['car'][mark_states],\n",
    "        y = cars['wt'][mark_states],\n",
    "    )\n",
    "\n",
    "dataBar = [tracebar]\n",
    "\n",
    "# Plot and embed in ipython notebook!\n",
    "bar = go.FigureWidget(data=dataBar)\n",
    "bar.layout.title = 'Car Weights'\n",
    "bar.layout.xaxis.title = 'car'\n",
    "bar.layout.yaxis.title = \"weight\"\n",
    "bar"
   ]
  },
  {
   "cell_type": "code",
   "execution_count": null,
   "metadata": {},
   "outputs": [],
   "source": []
  }
 ],
 "metadata": {
  "kernelspec": {
   "display_name": "Python 3",
   "language": "python",
   "name": "python3"
  },
  "language_info": {
   "codemirror_mode": {
    "name": "ipython",
    "version": 3
   },
   "file_extension": ".py",
   "mimetype": "text/x-python",
   "name": "python",
   "nbconvert_exporter": "python",
   "pygments_lexer": "ipython3",
   "version": "3.7.5"
  }
 },
 "nbformat": 4,
 "nbformat_minor": 2
}
