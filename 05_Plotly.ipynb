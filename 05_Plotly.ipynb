{
 "cells": [
  {
   "cell_type": "markdown",
   "metadata": {},
   "source": [
    "# Visualization with Plotly\n",
    "[Plotly](https://plot.ly/python/) is another plotting library for python."
   ]
  },
  {
   "cell_type": "code",
   "execution_count": 10,
   "metadata": {},
   "outputs": [],
   "source": [
    "# See https://github.com/plotly/plotly.py and https://plot.ly/python/figurewidget/\n",
    "import plotly.graph_objs as go\n",
    "\n",
    "import pandas as pd\n",
    "import numpy as np"
   ]
  },
  {
   "cell_type": "code",
   "execution_count": 11,
   "metadata": {},
   "outputs": [],
   "source": [
    "#use a standard dataset of heterogenous data\n",
    "cars = pd.read_csv('data/mtcars.csv')"
   ]
  },
  {
   "cell_type": "markdown",
   "metadata": {},
   "source": [
    "## Scatterplot"
   ]
  },
  {
   "cell_type": "code",
   "execution_count": 12,
   "metadata": {},
   "outputs": [
    {
     "data": {
      "application/vnd.jupyter.widget-view+json": {
       "model_id": "2dddcfbc808f4cb89ff3202868dab6de",
       "version_major": 2,
       "version_minor": 0
      },
      "text/plain": [
       "FigureWidget({\n",
       "    'data': [{'mode': 'markers',\n",
       "              'type': 'scatter',\n",
       "              'uid': '3a78dfe…"
      ]
     },
     "metadata": {},
     "output_type": "display_data"
    }
   ],
   "source": [
    "# Create a trace\n",
    "trace = go.Scatter(\n",
    "    x = cars['mpg'],\n",
    "    y = cars['wt'],\n",
    "    mode = 'markers'\n",
    ")\n",
    "\n",
    "data = [trace]\n",
    "\n",
    "# Plot and embed in ipython notebook!\n",
    "fw = go.FigureWidget(data=data)\n",
    "fw.layout.title = 'MPG vs WT'\n",
    "fw.layout.xaxis.title = 'miles per gallon'\n",
    "fw.layout.yaxis.title = \"weight\"\n",
    "fw"
   ]
  },
  {
   "cell_type": "markdown",
   "metadata": {},
   "source": [
    "## Interactivity (Brushing)"
   ]
  },
  {
   "cell_type": "code",
   "execution_count": 13,
   "metadata": {},
   "outputs": [
    {
     "data": {
      "application/vnd.jupyter.widget-view+json": {
       "model_id": "bbc17be2f39945f7ab3b12ffab38959e",
       "version_major": 2,
       "version_minor": 0
      },
      "text/plain": [
       "FigureWidget({\n",
       "    'data': [{'mode': 'markers',\n",
       "              'type': 'scatter',\n",
       "              'uid': 'ac58fe9…"
      ]
     },
     "metadata": {},
     "output_type": "display_data"
    }
   ],
   "source": [
    "trace = go.Scatter(\n",
    "    x = cars['mpg'],\n",
    "    y = cars['wt'],\n",
    "    mode = 'markers',\n",
    "    marker=dict(color=np.zeros(cars['mpg'].shape[0]), # initially all points are blue (color=0)\n",
    "                colorscale=[[0, 'blue'],  # 0 = unselected = blue\n",
    "                           [1., 'red']])  # 1 = selected = red\n",
    ")\n",
    "\n",
    "layout=dict(dragmode='lasso',\n",
    "            hovermode='closest',\n",
    "            title='MPG vs WT',\n",
    "            xaxis = dict(title='miles per gallon'),\n",
    "            yaxis = dict(title='weight'))\n",
    "\n",
    "fw = go.FigureWidget(data=data, layout=layout)\n",
    "fw"
   ]
  },
  {
   "cell_type": "code",
   "execution_count": 14,
   "metadata": {},
   "outputs": [
    {
     "data": {
      "application/vnd.jupyter.widget-view+json": {
       "model_id": "bbc17be2f39945f7ab3b12ffab38959e",
       "version_major": 2,
       "version_minor": 0
      },
      "text/plain": [
       "FigureWidget({\n",
       "    'data': [{'mode': 'markers',\n",
       "              'selectedpoints': [6, 11, 13, 21, 22, 23, 28, 30…"
      ]
     },
     "metadata": {},
     "output_type": "display_data"
    }
   ],
   "source": [
    "# What happens with selected points?\n",
    "def brush(trace, points, state):\n",
    "    inds = np.array(points.point_inds)  # indices of the selected points\n",
    "    if inds.size:\n",
    "        points = np.zeros(len(trace.x)) # initially all my points are unselected --> value 0\n",
    "        points[inds] = 1  # set the selected points value to 1 --> they become red\n",
    "        trace.marker.color = points  # update the markers\n",
    "        \n",
    "fw.data[0].on_selection(brush)\n",
    "fw"
   ]
  },
  {
   "cell_type": "markdown",
   "metadata": {},
   "source": [
    "### Get selected points\n",
    "You can use that color information to get selected data points:"
   ]
  },
  {
   "cell_type": "code",
   "execution_count": 18,
   "metadata": {},
   "outputs": [
    {
     "data": {
      "text/plain": [
       "(array([18.7, 18.1, 14.3, 19.2, 17.8, 16.4, 17.3, 15.2, 15.5, 15.2, 13.3,\n",
       "        19.2, 15.8, 15. ]),\n",
       " array([3.44 , 3.46 , 3.57 , 3.44 , 3.44 , 4.07 , 3.73 , 3.78 , 3.52 ,\n",
       "        3.435, 3.84 , 3.845, 3.17 , 3.57 ]))"
      ]
     },
     "execution_count": 18,
     "metadata": {},
     "output_type": "execute_result"
    }
   ],
   "source": [
    "# Select some points in the plot above to avoid errors\n",
    "mark_states = fw.data[0].marker.color.astype(bool) # to bool to mask the data array\n",
    "(trace['x'][mark_states], trace['y'][mark_states]) "
   ]
  },
  {
   "cell_type": "code",
   "execution_count": 19,
   "metadata": {},
   "outputs": [
    {
     "data": {
      "application/vnd.jupyter.widget-view+json": {
       "model_id": "e4594501a85e404d8bd0a766892bd173",
       "version_major": 2,
       "version_minor": 0
      },
      "text/plain": [
       "FigureWidget({\n",
       "    'data': [{'type': 'bar',\n",
       "              'uid': '557306b3-31ee-4986-8141-37ef9e90334b',\n",
       "     …"
      ]
     },
     "metadata": {},
     "output_type": "display_data"
    }
   ],
   "source": [
    "tracebar = go.Bar(\n",
    "        x = cars['car'][mark_states],\n",
    "        y = cars['wt'][mark_states],\n",
    "    )\n",
    "\n",
    "dataBar = [tracebar]\n",
    "\n",
    "# Plot and embed in ipython notebook!\n",
    "bar = go.FigureWidget(data=dataBar)\n",
    "bar.layout.title = 'Car Weights'\n",
    "bar.layout.xaxis.title = 'car'\n",
    "bar.layout.yaxis.title = \"weight\"\n",
    "bar"
   ]
  }
 ],
 "metadata": {
  "kernelspec": {
   "display_name": "Python 3",
   "language": "python",
   "name": "python3"
  },
  "language_info": {
   "codemirror_mode": {
    "name": "ipython",
    "version": 3
   },
   "file_extension": ".py",
   "mimetype": "text/x-python",
   "name": "python",
   "nbconvert_exporter": "python",
   "pygments_lexer": "ipython3",
   "version": "3.7.5"
  }
 },
 "nbformat": 4,
 "nbformat_minor": 2
}
